{
 "cells": [
  {
   "cell_type": "code",
   "execution_count": 1,
   "id": "a1a394ed-7705-4db1-8c2f-62e2653e7be5",
   "metadata": {
    "tags": []
   },
   "outputs": [],
   "source": [
    "import tabula as tb\n",
    "import pandas as pd\n",
    "import pdfplumber\n",
    "import json"
   ]
  },
  {
   "cell_type": "code",
   "execution_count": 2,
   "id": "6e4ff682-e8ae-4e52-8972-75797227a32d",
   "metadata": {
    "tags": []
   },
   "outputs": [
    {
     "name": "stdout",
     "output_type": "stream",
     "text": [
      "Dwarf, 1.20, 54, 0, 13, 11, 9, 4, 1,Dour, 1.10, 55, 10, 13, 11, 9, 4, 1,Gnome, 0.80, 37, 5, 13, 11, 9, 4, 1,Hanuman, 1.20, 49, 5, 12, 10, 9, 4, 1,Koborokuru, 1.10, 42, 5, 13, 11, 9, 4, 1,Menehune, 1.10, 42, 5, 12, 10, 9, 4, N/A,Elf, 1.90, 80, 0, N/A, 11, 9, 4, 1,Dalakitnon, 1.70, 80, 5, N/A, 11, 9, 4, 1,Dryad, 1.75, 63, 5, N/A, 11, 9, 4, 1,Nocturna, 1.90, 80, 5, N/A, 10, 8, 4, 1,Wakyambi, 2.30, 145, 10, N/A, 12, 9, 4, N/A,Xapiri, Thëpë, 1.70, 57, 5, N/A, 10, 8, 4, 1,Human, 1.75, 78, 0, N/A, N/A, 9, 4, 1,Nartaki, 1.75, 86, 5/10, N/A, N/A, 10, 4, N/A,Valkyrie, 1.76, 115, 15, N/A, 11, 10, 4, N/A,Ork, 1.90, 128, 0, 13, 11, 9, 4, 1,Hobgoblin, 1.80, 98, 5, 13, 11, 9, 4, 1,Ogre, 1.70, 101, 5, 13, 11, 9, 4, 1,Oni, 1.90, 128, 5, 13, 11, 9, 4, 1,Satyr, 1.60, 69, 10, 13, 11, 9, 4, N/A,Troll, 2.50, 300, 0, 13, 11, 9, 4, 1,Cyclops, 2.70, 421, 5, 13, 11, 9, 4, 1,Fomorian, 2.35, 224, 10, 14, 11, 9, 4, N/A,Giant, 3.00, 467, 5, 14, 11, 9, 4, 1,Minotaur, 2.40, 285, 5, 13, 11, 9, 4, 1,Metasapients,Centaurs, 2.10, 435, 15, 13, 11, 9, 4, N/A,Merrow, 2.85, 375, 15, 13, 11, 9, 5, N/A,Naga, 6.90, 245, 15, 11, 9, 4, 2, N/A,Pixie, 0.60, 19, 10, 12, 10, 9, 4, N/A,Sasquatch, 2.4, 244, 10, 14, 11, 9, 4, N/A\n"
     ]
    }
   ],
   "source": [
    "# Set the path to your PDF file\n",
    "pdf_path = 'comp.pdf'\n",
    "\n",
    "x1 = 0\n",
    "x2 = 520 #612 max\n",
    "y1 = 173 \n",
    "y2 = 525 #765 max\n",
    "\n",
    "page_number = 92\n",
    "crop_area = (x1, y1, x2, y2)\n",
    "\n",
    "with pdfplumber.open(pdf_path) as pdf:\n",
    "    page = pdf.pages[page_number - 1]\n",
    "    cropped_page = page.crop(crop_area)\n",
    "    data = cropped_page.extract_text().replace(' ', ', ').replace('\\n', ',')\n",
    "    \n",
    "print(data)"
   ]
  },
  {
   "cell_type": "code",
   "execution_count": 12,
   "id": "0745f1b5-b095-4349-ab97-450fbe1cdc9d",
   "metadata": {
    "tags": []
   },
   "outputs": [
    {
     "name": "stdout",
     "output_type": "stream",
     "text": [
      "[['Dwarf', ' 1.20', ' 54', ' 0', ' 13', ' 11', ' 9', ' 4', ' 1'], ['Dour', ' 1.10', ' 55', ' 10', ' 13', ' 11', ' 9', ' 4', ' 1'], ['Gnome', ' 0.80', ' 37', ' 5', ' 13', ' 11', ' 9', ' 4', ' 1'], ['Hanuman', ' 1.20', ' 49', ' 5', ' 12', ' 10', ' 9', ' 4', ' 1'], ['Koborokuru', ' 1.10', ' 42', ' 5', ' 13', ' 11', ' 9', ' 4', ' 1'], ['Menehune', ' 1.10', ' 42', ' 5', ' 12', ' 10', ' 9', ' 4', ' N/A'], ['Elf', ' 1.90', ' 80', ' 0', ' N/A', ' 11', ' 9', ' 4', ' 1'], ['Dalakitnon', ' 1.70', ' 80', ' 5', ' N/A', ' 11', ' 9', ' 4', ' 1'], ['Dryad', ' 1.75', ' 63', ' 5', ' N/A', ' 11', ' 9', ' 4', ' 1'], ['Nocturna', ' 1.90', ' 80', ' 5', ' N/A', ' 10', ' 8', ' 4', ' 1'], ['Wakyambi', ' 2.30', ' 145', ' 10', ' N/A', ' 12', ' 9', ' 4', ' N/A'], ['Xapiri', ' Thëpë', ' 1.70', ' 57', ' 5', ' N/A', ' 10', ' 8', ' 4'], [' 1', 'Human', ' 1.75', ' 78', ' 0', ' N/A', ' N/A', ' 9', ' 4'], [' 1', 'Nartaki', ' 1.75', ' 86', ' 5/10', ' N/A', ' N/A', ' 10', ' 4'], [' N/A', 'Valkyrie', ' 1.76', ' 115', ' 15', ' N/A', ' 11', ' 10', ' 4'], [' N/A', 'Ork', ' 1.90', ' 128', ' 0', ' 13', ' 11', ' 9', ' 4'], [' 1', 'Hobgoblin', ' 1.80', ' 98', ' 5', ' 13', ' 11', ' 9', ' 4'], [' 1', 'Ogre', ' 1.70', ' 101', ' 5', ' 13', ' 11', ' 9', ' 4'], [' 1', 'Oni', ' 1.90', ' 128', ' 5', ' 13', ' 11', ' 9', ' 4'], [' 1', 'Satyr', ' 1.60', ' 69', ' 10', ' 13', ' 11', ' 9', ' 4'], [' N/A', 'Troll', ' 2.50', ' 300', ' 0', ' 13', ' 11', ' 9', ' 4'], [' 1', 'Cyclops', ' 2.70', ' 421', ' 5', ' 13', ' 11', ' 9', ' 4'], [' 1', 'Fomorian', ' 2.35', ' 224', ' 10', ' 14', ' 11', ' 9', ' 4'], [' N/A', 'Giant', ' 3.00', ' 467', ' 5', ' 14', ' 11', ' 9', ' 4'], [' 1', 'Minotaur', ' 2.40', ' 285', ' 5', ' 13', ' 11', ' 9', ' 4'], [' 1', 'Centaurs', ' 2.10', ' 435', ' 15', ' 13', ' 11', ' 9', ' 4'], [' N/A', 'Merrow', ' 2.85', ' 375', ' 15', ' 13', ' 11', ' 9', ' 5'], [' N/A', 'Naga', ' 6.90', ' 245', ' 15', ' 11', ' 9', ' 4', ' 2'], [' N/A', 'Pixie', ' 0.60', ' 19', ' 10', ' 12', ' 10', ' 9', ' 4'], [' N/A', 'Sasquatch', ' 2.4', ' 244', ' 10', ' 14', ' 11', ' 9', ' 4'], [' N/A']]\n"
     ]
    }
   ],
   "source": [
    "word = 'Metasapients'\n",
    "word2 = 'Thëpë'\n",
    "split_num = 9\n",
    "\n",
    "new_data = data.split(',')\n",
    "\n",
    "if word in new_data:\n",
    "    new_data.remove(word)\n",
    "    new_data.remove(word2)\n",
    "\n",
    "split_data = [new_data[i:i+split_num] for i in range(0, len(new_data), split_num)]\n",
    "    \n",
    "print(split_data)\n",
    "\n"
   ]
  },
  {
   "cell_type": "code",
   "execution_count": 11,
   "id": "8d93020e-b27c-4229-89d2-11bf29084c65",
   "metadata": {
    "tags": []
   },
   "outputs": [
    {
     "ename": "ValueError",
     "evalue": "invalid literal for int() with base 10: ' N/A'",
     "output_type": "error",
     "traceback": [
      "\u001b[1;31m---------------------------------------------------------------------------\u001b[0m",
      "\u001b[1;31mValueError\u001b[0m                                Traceback (most recent call last)",
      "Cell \u001b[1;32mIn[11], line 10\u001b[0m\n\u001b[0;32m      2\u001b[0m num_objects \u001b[38;5;241m=\u001b[39m \u001b[38;5;28mlen\u001b[39m(new_data) \u001b[38;5;241m/\u001b[39m\u001b[38;5;241m/\u001b[39m \u001b[38;5;241m9\u001b[39m\n\u001b[0;32m      4\u001b[0m \u001b[38;5;28;01mfor\u001b[39;00m i \u001b[38;5;129;01min\u001b[39;00m \u001b[38;5;28mrange\u001b[39m(num_objects):\n\u001b[0;32m      5\u001b[0m     obj \u001b[38;5;241m=\u001b[39m {\n\u001b[0;32m      6\u001b[0m         \u001b[38;5;124m\"\u001b[39m\u001b[38;5;124mmetavariant\u001b[39m\u001b[38;5;124m\"\u001b[39m: new_data[i \u001b[38;5;241m*\u001b[39m \u001b[38;5;241m9\u001b[39m]\u001b[38;5;241m.\u001b[39mstrip(),\n\u001b[0;32m      7\u001b[0m         \u001b[38;5;124m\"\u001b[39m\u001b[38;5;124maverage_height\u001b[39m\u001b[38;5;124m\"\u001b[39m: \u001b[38;5;28mfloat\u001b[39m(new_data[i \u001b[38;5;241m*\u001b[39m \u001b[38;5;241m9\u001b[39m \u001b[38;5;241m+\u001b[39m \u001b[38;5;241m1\u001b[39m]) \u001b[38;5;28;01mif\u001b[39;00m new_data[i \u001b[38;5;241m*\u001b[39m \u001b[38;5;241m9\u001b[39m \u001b[38;5;241m+\u001b[39m \u001b[38;5;241m1\u001b[39m] \u001b[38;5;241m!=\u001b[39m \u001b[38;5;124m'\u001b[39m\u001b[38;5;124m N/A\u001b[39m\u001b[38;5;124m'\u001b[39m \u001b[38;5;28;01melse\u001b[39;00m \u001b[38;5;28;01mNone\u001b[39;00m,\n\u001b[0;32m      8\u001b[0m         \u001b[38;5;124m\"\u001b[39m\u001b[38;5;124maverage_weight\u001b[39m\u001b[38;5;124m\"\u001b[39m: \u001b[38;5;28mint\u001b[39m(new_data[i \u001b[38;5;241m*\u001b[39m \u001b[38;5;241m9\u001b[39m \u001b[38;5;241m+\u001b[39m \u001b[38;5;241m2\u001b[39m]) \u001b[38;5;28;01mif\u001b[39;00m new_data[i \u001b[38;5;241m*\u001b[39m \u001b[38;5;241m9\u001b[39m \u001b[38;5;241m+\u001b[39m \u001b[38;5;241m2\u001b[39m] \u001b[38;5;241m!=\u001b[39m \u001b[38;5;124m'\u001b[39m\u001b[38;5;124m N/A\u001b[39m\u001b[38;5;124m'\u001b[39m \u001b[38;5;28;01melse\u001b[39;00m \u001b[38;5;28;01mNone\u001b[39;00m,\n\u001b[0;32m      9\u001b[0m         \u001b[38;5;124m\"\u001b[39m\u001b[38;5;124mkarma_cost\u001b[39m\u001b[38;5;124m\"\u001b[39m: \u001b[38;5;28mint\u001b[39m(new_data[i \u001b[38;5;241m*\u001b[39m \u001b[38;5;241m9\u001b[39m \u001b[38;5;241m+\u001b[39m \u001b[38;5;241m3\u001b[39m]) \u001b[38;5;28;01mif\u001b[39;00m new_data[i \u001b[38;5;241m*\u001b[39m \u001b[38;5;241m9\u001b[39m \u001b[38;5;241m+\u001b[39m \u001b[38;5;241m3\u001b[39m] \u001b[38;5;241m!=\u001b[39m \u001b[38;5;124m'\u001b[39m\u001b[38;5;124m N/A\u001b[39m\u001b[38;5;124m'\u001b[39m \u001b[38;5;28;01melse\u001b[39;00m \u001b[38;5;28;01mNone\u001b[39;00m,\n\u001b[1;32m---> 10\u001b[0m         \u001b[38;5;124m\"\u001b[39m\u001b[38;5;124ma\u001b[39m\u001b[38;5;124m\"\u001b[39m: \u001b[38;5;28;43mint\u001b[39;49m\u001b[43m(\u001b[49m\u001b[43mnew_data\u001b[49m\u001b[43m[\u001b[49m\u001b[43mi\u001b[49m\u001b[43m \u001b[49m\u001b[38;5;241;43m*\u001b[39;49m\u001b[43m \u001b[49m\u001b[38;5;241;43m9\u001b[39;49m\u001b[43m \u001b[49m\u001b[38;5;241;43m+\u001b[39;49m\u001b[43m \u001b[49m\u001b[38;5;241;43m4\u001b[39;49m\u001b[43m]\u001b[49m\u001b[43m)\u001b[49m \u001b[38;5;28;01mif\u001b[39;00m new_data[i \u001b[38;5;241m*\u001b[39m \u001b[38;5;241m9\u001b[39m \u001b[38;5;241m+\u001b[39m \u001b[38;5;241m8\u001b[39m] \u001b[38;5;241m!=\u001b[39m \u001b[38;5;124m'\u001b[39m\u001b[38;5;124m N/A\u001b[39m\u001b[38;5;124m'\u001b[39m \u001b[38;5;28;01melse\u001b[39;00m \u001b[38;5;28;01mNone\u001b[39;00m,\n\u001b[0;32m     11\u001b[0m         \u001b[38;5;124m\"\u001b[39m\u001b[38;5;124mb\u001b[39m\u001b[38;5;124m\"\u001b[39m: \u001b[38;5;28mint\u001b[39m(new_data[i \u001b[38;5;241m*\u001b[39m \u001b[38;5;241m9\u001b[39m \u001b[38;5;241m+\u001b[39m \u001b[38;5;241m5\u001b[39m]) \u001b[38;5;28;01mif\u001b[39;00m new_data[i \u001b[38;5;241m*\u001b[39m \u001b[38;5;241m9\u001b[39m \u001b[38;5;241m+\u001b[39m \u001b[38;5;241m8\u001b[39m] \u001b[38;5;241m!=\u001b[39m \u001b[38;5;124m'\u001b[39m\u001b[38;5;124m N/A\u001b[39m\u001b[38;5;124m'\u001b[39m \u001b[38;5;28;01melse\u001b[39;00m \u001b[38;5;28;01mNone\u001b[39;00m,\n\u001b[0;32m     12\u001b[0m         \u001b[38;5;124m\"\u001b[39m\u001b[38;5;124mc\u001b[39m\u001b[38;5;124m\"\u001b[39m: \u001b[38;5;28mint\u001b[39m(new_data[i \u001b[38;5;241m*\u001b[39m \u001b[38;5;241m9\u001b[39m \u001b[38;5;241m+\u001b[39m \u001b[38;5;241m6\u001b[39m]) \u001b[38;5;28;01mif\u001b[39;00m new_data[i \u001b[38;5;241m*\u001b[39m \u001b[38;5;241m9\u001b[39m \u001b[38;5;241m+\u001b[39m \u001b[38;5;241m8\u001b[39m] \u001b[38;5;241m!=\u001b[39m \u001b[38;5;124m'\u001b[39m\u001b[38;5;124m N/A\u001b[39m\u001b[38;5;124m'\u001b[39m \u001b[38;5;28;01melse\u001b[39;00m \u001b[38;5;28;01mNone\u001b[39;00m,\n\u001b[0;32m     13\u001b[0m         \u001b[38;5;124m\"\u001b[39m\u001b[38;5;124md\u001b[39m\u001b[38;5;124m\"\u001b[39m: \u001b[38;5;28mint\u001b[39m(new_data[i \u001b[38;5;241m*\u001b[39m \u001b[38;5;241m9\u001b[39m \u001b[38;5;241m+\u001b[39m \u001b[38;5;241m7\u001b[39m]) \u001b[38;5;28;01mif\u001b[39;00m new_data[i \u001b[38;5;241m*\u001b[39m \u001b[38;5;241m9\u001b[39m \u001b[38;5;241m+\u001b[39m \u001b[38;5;241m8\u001b[39m] \u001b[38;5;241m!=\u001b[39m \u001b[38;5;124m'\u001b[39m\u001b[38;5;124m N/A\u001b[39m\u001b[38;5;124m'\u001b[39m \u001b[38;5;28;01melse\u001b[39;00m \u001b[38;5;28;01mNone\u001b[39;00m,\n\u001b[0;32m     14\u001b[0m         \u001b[38;5;124m\"\u001b[39m\u001b[38;5;124me\u001b[39m\u001b[38;5;124m\"\u001b[39m: \u001b[38;5;28mint\u001b[39m(new_data[i \u001b[38;5;241m*\u001b[39m \u001b[38;5;241m9\u001b[39m \u001b[38;5;241m+\u001b[39m \u001b[38;5;241m8\u001b[39m]) \u001b[38;5;28;01mif\u001b[39;00m new_data[i \u001b[38;5;241m*\u001b[39m \u001b[38;5;241m9\u001b[39m \u001b[38;5;241m+\u001b[39m \u001b[38;5;241m8\u001b[39m] \u001b[38;5;241m!=\u001b[39m \u001b[38;5;124m'\u001b[39m\u001b[38;5;124m N/A\u001b[39m\u001b[38;5;124m'\u001b[39m \u001b[38;5;28;01melse\u001b[39;00m \u001b[38;5;28;01mNone\u001b[39;00m\n\u001b[0;32m     15\u001b[0m     }\n\u001b[0;32m     16\u001b[0m     json_data\u001b[38;5;241m.\u001b[39mappend(obj)\n\u001b[0;32m     18\u001b[0m \u001b[38;5;28;01mwith\u001b[39;00m \u001b[38;5;28mopen\u001b[39m(\u001b[38;5;124m\"\u001b[39m\u001b[38;5;124moutput.json\u001b[39m\u001b[38;5;124m\"\u001b[39m, \u001b[38;5;124m\"\u001b[39m\u001b[38;5;124mw\u001b[39m\u001b[38;5;124m\"\u001b[39m) \u001b[38;5;28;01mas\u001b[39;00m json_file:\n",
      "\u001b[1;31mValueError\u001b[0m: invalid literal for int() with base 10: ' N/A'"
     ]
    }
   ],
   "source": []
  },
  {
   "cell_type": "code",
   "execution_count": null,
   "id": "c03eff83-0a42-43ca-b215-6d644df8c99f",
   "metadata": {},
   "outputs": [],
   "source": []
  }
 ],
 "metadata": {
  "kernelspec": {
   "display_name": "Python 3 (ipykernel)",
   "language": "python",
   "name": "python3"
  },
  "language_info": {
   "codemirror_mode": {
    "name": "ipython",
    "version": 3
   },
   "file_extension": ".py",
   "mimetype": "text/x-python",
   "name": "python",
   "nbconvert_exporter": "python",
   "pygments_lexer": "ipython3",
   "version": "3.11.3"
  }
 },
 "nbformat": 4,
 "nbformat_minor": 5
}
